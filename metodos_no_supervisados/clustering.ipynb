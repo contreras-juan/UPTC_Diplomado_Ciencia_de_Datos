{
  "cells": [
    {
      "cell_type": "markdown",
      "metadata": {
        "id": "geIdR0LedAD7"
      },
      "source": [
        "<center>\n",
        "<img src=\"https://storage.googleapis.com/adonaivera_certified/banner.png\">\n",
        "    \n",
        "##  Diplomado en Ciencia de Datos - Cohorte 2024\n",
        "\n",
        "Author: [Adonai Vera](https://www.linkedin.com/in/adonai-vera/) & [Jose Bohorquez](https://www.linkedin.com/in/jos%C3%A9-daniel-boh%C3%B3rquez-guerra-5bba281b3/)"
      ]
    },
    {
      "cell_type": "markdown",
      "metadata": {
        "_uuid": "018321e1056cfefc6c6758a73fe6f5cddf36ab26",
        "collapsed": true,
        "id": "ANekzBtUqCqG"
      },
      "source": [
        "## Clustering (Agrupaciones)\n",
        "\n",
        "La idea principal detrás del agrupamiento es bastante directa. Básicamente, nos decimos a nosotros mismos: \"Tengo estos puntos aquí, y puedo ver que se organizan en grupos. Sería bueno describir estas cosas de manera más concreta y, cuando llegue un nuevo punto, asignarlo al grupo correcto\". Esta idea general fomenta la exploración y abre una variedad de algoritmos para el agrupamiento.\n",
        "\n",
        "<figure><img align=\"center\" src=\"https://habrastorage.org/getpro/habr/post_images/8b9/ae5/586/8b9ae55861f22a2809e8b3a00ef815ad.png\"><figcaption>*Los ejemplos de los resultados de diferentes algoritmos de scikit-learn.*</figcaption></figure>\n",
        "\n",
        "Los algoritmos enumerados a continuación no cubren todos los métodos de agrupamiento disponibles, pero son los más comúnmente utilizados.\n",
        "\n",
        "### K-means\n",
        "\n",
        "El algoritmo K-means es el más popular y, sin embargo, el más simple de todos los algoritmos de agrupamiento. Así es cómo funciona:\n",
        "\n",
        "1. Selecciona el número de clústeres \"Agrupaciones\" $k$ que crees que es el número óptimo.\n",
        "2. Inicializa $k$ puntos como \"centroides\" de forma aleatoria dentro del espacio de nuestros datos.\n",
        "3. Atribuye cada observación a su centroide más cercano.\n",
        "4. Actualiza los centroides al centro de todos los conjuntos atribuidos en las observaciones.\n",
        "5. Repite los pasos 3 y 4 un número fijo de veces o hasta que todos los centroides sean estables (es decir, ya no cambien en el paso 4).\n",
        "\n",
        "Este algoritmo es fácil de describir y visualizar.  \n",
        "\n",
        "#### Ejemplo 1\n",
        "\n",
        "Crearemos un conjunto de datos sintéticos para demostrar el funcionamiento del algoritmo K-means con base en la para teórica de este concepto. Echemos un vistazo:"
      ]
    },
    {
      "cell_type": "code",
      "execution_count": null,
      "metadata": {
        "_uuid": "af2b56e69f32be4102b1c93bf6cd8e2e2bca53d2",
        "id": "HUfMfJYsqCqH",
        "outputId": "55471e8b-430e-44c1-c256-5f594daca39e",
        "colab": {
          "base_uri": "https://localhost:8080/",
          "height": 462
        }
      },
      "outputs": [
        {
          "output_type": "execute_result",
          "data": {
            "text/plain": [
              "[<matplotlib.lines.Line2D at 0x7a1ce2cd61a0>]"
            ]
          },
          "metadata": {},
          "execution_count": 4
        },
        {
          "output_type": "display_data",
          "data": {
            "text/plain": [
              "<Figure size 500x500 with 1 Axes>"
            ],
            "image/png": "[encoded data removed]"
          },
          "metadata": {}
        }
      ],
      "source": [
        "import numpy as np\n",
        "import matplotlib.pyplot as plt\n",
        "\n",
        "# Let's begin by allocation 3 cluster's points\n",
        "X = np.zeros((150, 2))\n",
        "\n",
        "np.random.seed(seed=42)\n",
        "X[:50, 0] = np.random.normal(loc=0.0, scale=.3, size=50)\n",
        "X[:50, 1] = np.random.normal(loc=0.0, scale=.3, size=50)\n",
        "\n",
        "X[50:100, 0] = np.random.normal(loc=2.0, scale=.5, size=50)\n",
        "X[50:100, 1] = np.random.normal(loc=-1.0, scale=.2, size=50)\n",
        "\n",
        "X[100:150, 0] = np.random.normal(loc=-1.0, scale=.2, size=50)\n",
        "X[100:150, 1] = np.random.normal(loc=2.0, scale=.5, size=50)\n",
        "\n",
        "plt.figure(figsize=(5, 5))\n",
        "plt.plot(X[:, 0], X[:, 1], 'bo')"
      ]
    },
    {
      "cell_type": "markdown",
      "metadata": {
        "id": "z0_RngMyqCqI"
      },
      "source": [
        "Se generan tres grupos de puntos, cada uno con una distribución específica en el plano xy. Luego, se visualizan estos puntos en un gráfico de dispersión.\n",
        "\n",
        "Veamos el código:\n",
        "\n",
        "- Se importan las bibliotecas necesarias: `NumPy` para el manejo de matrices y `matplotlib.pyplot` para la visualización de datos.\n",
        "\n",
        "- Se inicializa una matriz `X` de tamaño (150, 2) para almacenar las coordenadas de los puntos de datos. Todos los elementos de la matriz se establecen inicialmente en cero.\n",
        "\n",
        "- Se generan los puntos de datos para los tres clusters:\n",
        "\n",
        "- Los primeros 50 puntos se generan aleatoriamente con una distribución normal centrada en (0, 0) y una desviación estándar de 0.3 tanto en x como en y.\n",
        "\n",
        "- Los siguientes 50 puntos se generan con una distribución normal centrada en (2, -1) y desviaciones estándar de 0.5 y 0.2 en x e y, respectivamente.\n",
        "\n",
        "- Los últimos 50 puntos se generan con una distribución normal centrada en (-1, 2) y desviaciones estándar de 0.2 y 0.5 en x e y, respectivamente.\n",
        "\n",
        "- Se trazan los puntos de datos en un gráfico de dispersión utilizando `plt.plot()`. Los puntos se representan como puntos azules ('bo') en el gráfico.\n",
        "\n"
      ]
    },
    {
      "cell_type": "code",
      "execution_count": null,
      "metadata": {
        "_uuid": "9d337c9f9318935e68194963b5273079be7f993a",
        "id": "hYJ8j8cbqCqI"
      },
      "outputs": [],
      "source": [
        "# Scipy has function that takes 2 tuples and return\n",
        "# calculated distance between them\n",
        "from scipy.spatial.distance import cdist\n",
        "\n",
        "# Randomly allocate the 3 centroids\n",
        "np.random.seed(seed=42)\n",
        "centroids = np.random.normal(loc=0.0, scale=1., size=6)\n",
        "centroids = centroids.reshape((3, 2))\n",
        "\n",
        "cent_history = []\n",
        "cent_history.append(centroids)\n",
        "\n",
        "for i in range(3):\n",
        "    # Calculating the distance from a point to a centroid\n",
        "    distances = cdist(X, centroids)\n",
        "    # Checking what's the closest centroid for the point\n",
        "    labels = distances.argmin(axis=1)\n",
        "\n",
        "    # Labeling the point according the point's distance\n",
        "    centroids = centroids.copy()\n",
        "    centroids[0, :] = np.mean(X[labels == 0, :], axis=0)\n",
        "    centroids[1, :] = np.mean(X[labels == 1, :], axis=0)\n",
        "    centroids[2, :] = np.mean(X[labels == 2, :], axis=0)\n",
        "\n",
        "    cent_history.append(centroids)"
      ]
    },
    {
      "cell_type": "markdown",
      "metadata": {
        "id": "cAmpTm_CqCqI"
      },
      "source": [
        "Asignaremos puntos a clusters y actualizar las posiciones de los centroides iterativamente. Se utilizan las funciones de la biblioteca Scipy para calcular distancias y asignar puntos a los centroides más cercanos.\n",
        "\n",
        "Veamos cómo funciona:\n",
        "\n",
        "- Se importa la función `cdist` de la biblioteca `scipy.spatial.distance`, que se utiliza para calcular la distancia entre dos conjuntos de puntos.\n",
        "\n",
        "- Se inicializa un arreglo centroids de tamaño (3, 2) para almacenar las coordenadas de los centroides. Los centroides se generan aleatoriamente con una distribución normal centrada en 0.0 y una desviación estándar de 1.0.\n",
        "\n",
        "- Se guarda el primer conjunto de centroides en una lista `cent_history`.\n",
        "\n",
        "- Se realiza un bucle `for` que se ejecuta tres veces para actualizar los centroides:\n",
        "\n",
        "- Se calcula la matriz de distancias entre cada punto de datos y los centroides actuales utilizando la función `cdist`.\n",
        "\n",
        "- Se determina el índice del centroide más cercano para cada punto utilizando `argmin` en el eje 1 de la matriz de distancias.\n",
        "\n",
        "- Se actualizan las coordenadas de los centroides asignándoles la media de las coordenadas de los puntos asignados a cada centroide.\n",
        "\n",
        "- Se añaden los nuevos centroides a la lista `cent_history` para su seguimiento.\n",
        "\n",
        "\n",
        "Ahora veremos cómo se actualizan los centroides en cada iteración del algoritmo K-means para mejorar la asignación de puntos a clusters. La lista cent_history permite visualizar cómo cambian los centroides en cada paso del algoritmo."
      ]
    },
    {
      "cell_type": "code",
      "execution_count": null,
      "metadata": {
        "_uuid": "b755dad84463b308bafaf7514dc889fbfe7645c6",
        "id": "duotxzfuqCqI",
        "outputId": "489dc931-472b-4d16-ec9e-135c4aac9512",
        "colab": {
          "base_uri": "https://localhost:8080/",
          "height": 699
        }
      },
      "outputs": [
        {
          "output_type": "display_data",
          "data": {
            "text/plain": [
              "<Figure size 800x800 with 4 Axes>"
            ],
            "image/png": "[encoded data removed]"
          },
          "metadata": {}
        }
      ],
      "source": [
        "# Let's plot K-means\n",
        "plt.figure(figsize=(8, 8))\n",
        "for i in range(4):\n",
        "    distances = cdist(X, cent_history[i])\n",
        "    labels = distances.argmin(axis=1)\n",
        "\n",
        "    plt.subplot(2, 2, i + 1)\n",
        "    plt.plot(X[labels == 0, 0], X[labels == 0, 1], 'bo', label='cluster #1')\n",
        "    plt.plot(X[labels == 1, 0], X[labels == 1, 1], 'co', label='cluster #2')\n",
        "    plt.plot(X[labels == 2, 0], X[labels == 2, 1], 'mo', label='cluster #3')\n",
        "    plt.plot(cent_history[i][:, 0], cent_history[i][:, 1], 'rX')\n",
        "    plt.legend(loc=0)\n",
        "    plt.title('Step {:}'.format(i + 1))"
      ]
    },
    {
      "cell_type": "markdown",
      "metadata": {
        "id": "xKo0PkrMqCqI"
      },
      "source": [
        "Veamos lo que acabamos de ejecutar:\n",
        "\n",
        "- Se crea una figura de tamaño (8, 8) utilizando `plt.figure(figsize=(8, 8))`.\n",
        "\n",
        "- Se realiza un bucle for que itera cuatro veces, representando cuatro pasos del algoritmo K-means.\n",
        "\n",
        "- Dentro del bucle, se calculan las distancias entre los puntos de datos y los centroides en el `i-ésimo` paso utilizando la función `cdist`.\n",
        "\n",
        "- Se determinan las etiquetas de cluster para cada punto utilizando `argmin` en el eje 1 de la matriz de distancias.\n",
        "\n",
        "- Se utilizan las funciones de trazado de Matplotlib para graficar los puntos de cada cluster con diferentes colores y marcadores:\n",
        "    - Los puntos del primer cluster se representan en azul (`'bo'`).\n",
        "    - Los puntos del segundo cluster se representan en cian (`'co'`).\n",
        "    - Los puntos del tercer cluster se representan en magenta (`'mo'`).\n",
        "\n",
        "- Los centroides se representan como `'X'` rojos (`'rX'`).\n",
        "\n",
        "- Se añade una leyenda para identificar los clusters y los centroides.\n",
        "\n",
        "- Se asigna un título a cada subfigura para indicar el paso del algoritmo representado."
      ]
    },
    {
      "cell_type": "markdown",
      "metadata": {
        "_uuid": "3cff5b010970d5f41079f9da397ffd9bb9ebb7c3",
        "id": "OlLftfWPqCqI"
      },
      "source": [
        "\n",
        "Aquí, usamos la distancia euclidiana, pero el algoritmo convergerá con cualquier otra métrica. No solo puedes variar el número de pasos o los criterios de convergencia, sino también la medida de distancia entre los puntos y los centroides de los clústeres.\n",
        "\n",
        "Otra \"característica\" de este algoritmo es su sensibilidad a las posiciones iniciales de los centroides de los clústeres. Puedes ejecutar el algoritmo varias veces y luego promediar todos los resultados de los centroides."
      ]
    },
    {
      "cell_type": "markdown",
      "metadata": {
        "_uuid": "ffcd2a2bf4de7066516037d46dd820d2d8b50644",
        "id": "bpURcZ-3qCqI"
      },
      "source": [
        "### Eligiendo el número de agrupaciones para K-means\n",
        "\n",
        "A diferencia de las tareas de aprendizaje supervisado como la clasificación y la regresión, el agrupamiento requiere más esfuerzo para elegir el criterio de optimización. Por lo general, cuando trabajamos con k-means, optimizamos la suma de las distancias al cuadrado entre las observaciones y sus centroides.\n",
        "\n",
        "$$\\Large J(C) = \\sum_{k=1}^K\\sum_{i~\\in~C_k} ||x_i - \\mu_k|| \\rightarrow \\min\\limits_C,$$\n",
        "\n",
        "Donde $C$ es un conjunto de clústeres con potencia $K$, $\\mu_k$ es un centroide de un clúster $C_k$.\n",
        "\n",
        "Esta definición parece razonable -- queremos que nuestras observaciones estén lo más cerca posible de sus centroides. Pero, hay un problema -- el óptimo se alcanza cuando el número de centroides es igual al número de observaciones, por lo que terminarías con cada observación como su propio clúster separado.\n",
        "\n",
        "Para evitar ese caso, deberíamos elegir un número de clústeres después del cual una función $J(C_k)$ disminuya menos rápidamente. Más formalmente,\n",
        "$$\\Large D(k) = \\frac{|J(C_k) - J(C_{k+1})|}{|J(C_{k-1}) - J(C_k)|}  \\rightarrow \\min\\limits_k $$\n",
        "\n",
        "Veamos un ejemplo.\n",
        "\n",
        "### Ejemplo 2"
      ]
    },
    {
      "cell_type": "code",
      "execution_count": null,
      "metadata": {
        "_uuid": "8365abd73cd6524cc60e379e31fb3827fc34ec95",
        "id": "0iBahqTAqCqI",
        "outputId": "9c668964-c2e3-4f12-e3d4-5886e7dd9043",
        "colab": {
          "base_uri": "https://localhost:8080/"
        }
      },
      "outputs": [
        {
          "output_type": "stream",
          "name": "stderr",
          "text": [
            "/usr/local/lib/python3.10/dist-packages/sklearn/cluster/_kmeans.py:870: FutureWarning: The default value of `n_init` will change from 10 to 'auto' in 1.4. Set the value of `n_init` explicitly to suppress the warning\n",
            "  warnings.warn(\n",
            "/usr/local/lib/python3.10/dist-packages/sklearn/cluster/_kmeans.py:870: FutureWarning: The default value of `n_init` will change from 10 to 'auto' in 1.4. Set the value of `n_init` explicitly to suppress the warning\n",
            "  warnings.warn(\n",
            "/usr/local/lib/python3.10/dist-packages/sklearn/cluster/_kmeans.py:870: FutureWarning: The default value of `n_init` will change from 10 to 'auto' in 1.4. Set the value of `n_init` explicitly to suppress the warning\n",
            "  warnings.warn(\n",
            "/usr/local/lib/python3.10/dist-packages/sklearn/cluster/_kmeans.py:870: FutureWarning: The default value of `n_init` will change from 10 to 'auto' in 1.4. Set the value of `n_init` explicitly to suppress the warning\n",
            "  warnings.warn(\n",
            "/usr/local/lib/python3.10/dist-packages/sklearn/cluster/_kmeans.py:870: FutureWarning: The default value of `n_init` will change from 10 to 'auto' in 1.4. Set the value of `n_init` explicitly to suppress the warning\n",
            "  warnings.warn(\n",
            "/usr/local/lib/python3.10/dist-packages/sklearn/cluster/_kmeans.py:870: FutureWarning: The default value of `n_init` will change from 10 to 'auto' in 1.4. Set the value of `n_init` explicitly to suppress the warning\n",
            "  warnings.warn(\n",
            "/usr/local/lib/python3.10/dist-packages/sklearn/cluster/_kmeans.py:870: FutureWarning: The default value of `n_init` will change from 10 to 'auto' in 1.4. Set the value of `n_init` explicitly to suppress the warning\n",
            "  warnings.warn(\n"
          ]
        }
      ],
      "source": [
        "from sklearn.cluster import KMeans\n",
        "\n",
        "inertia = []\n",
        "for k in range(1, 8):\n",
        "    kmeans = KMeans(n_clusters=k, random_state=1).fit(X)\n",
        "    inertia.append(np.sqrt(kmeans.inertia_))\n"
      ]
    },
    {
      "cell_type": "markdown",
      "metadata": {
        "id": "A8FlFgFfqCqI"
      },
      "source": [
        "- Se importa la clase KMeans del módulo `sklearn.cluster`.\n",
        "\n",
        "- Se inicializa una lista vacía llamada inertia para almacenar los valores de la inercia para cada número de clusters.\n",
        "\n",
        "- Se realiza un bucle for que itera desde 1 hasta 7 (el rango es hasta 8 pero excluyendo el último elemento).\n",
        "\n",
        "- Dentro del bucle, se instancia un objeto KMeans con el número actual de clusters (`k`) y un valor de semilla aleatorio fijo (`random_state=1`).\n",
        "\n",
        "- Se ajusta el modelo KMeans a los datos `X` utilizando el método `fit`.\n",
        "\n",
        "- Se calcula la raíz cuadrada de la inercia (suma de las distancias al cuadrado de cada punto al centroide más cercano) y se agrega a la lista inertia.\n",
        "\n",
        "La inercia es una medida de cómo los puntos están dispersos alrededor de los centroides de los clusters. Se utiliza para evaluar la calidad de los clusters en el algoritmo K-means. Al aumentar el número de clusters, generalmente la inercia disminuye, ya que los centroides se ajustan mejor a los puntos. Sin embargo, llega un punto en el que agregar más clusters no mejora significativamente la inercia.\n",
        "\n",
        "Este análisis se utiliza para determinar el \"codo\" en el gráfico de inercia vs. número de clusters, lo que indica el número óptimo de clusters para el conjunto de datos."
      ]
    },
    {
      "cell_type": "code",
      "execution_count": null,
      "metadata": {
        "_uuid": "d1ffa56bc38d92a97ffb85aad156c4f4408496b8",
        "id": "VYJp3iJHqCqI",
        "outputId": "6b994b9c-ba92-436b-ae88-647043ca42e7",
        "colab": {
          "base_uri": "https://localhost:8080/",
          "height": 467
        }
      },
      "outputs": [
        {
          "output_type": "execute_result",
          "data": {
            "text/plain": [
              "Text(0, 0.5, '$J(C_k)$')"
            ]
          },
          "metadata": {},
          "execution_count": 8
        },
        {
          "output_type": "display_data",
          "data": {
            "text/plain": [
              "<Figure size 640x480 with 1 Axes>"
            ],
            "image/png": "[encoded data removed]"
          },
          "metadata": {}
        }
      ],
      "source": [
        "plt.plot(range(1, 8), inertia, marker='s')\n",
        "plt.xlabel('$k$')\n",
        "plt.ylabel('$J(C_k)$')"
      ]
    },
    {
      "cell_type": "markdown",
      "metadata": {
        "_uuid": "17a3c346dbddd58a21b255324632e910695c7cd4",
        "id": "Ch10tNBLqCqI"
      },
      "source": [
        "- Se utiliza la función plot de Matplotlib para trazar la inercia en función del número de clusters.\n",
        "\n",
        "- El eje x representa el número de clusters (`k`), que va desde 1 hasta 7.\n",
        "\n",
        "- El eje y representa la inercia (`J(Ck)`), que es la suma de las distancias al cuadrado de cada punto al centroide más cercano.\n",
        "\n",
        "- Se utiliza el marcador `'s'` (cuadrado) para resaltar los puntos en la gráfica.\n",
        "\n",
        "Vemos que $J(C_k)$ disminuye significativamente hasta que el número de clústeres es 3 y luego ya no cambia tanto. Esto significa que el número óptimo de clústeres es 3.\n",
        "\n",
        "##### ¿Por qué 3?\n",
        "El número óptimo de clusters se elige típicamente observando el codo en la curva de la inercia. En este caso, el codo en la curva de inercia se encuentra alrededor de k=3, lo que sugiere que agregar más clusters después de este punto no proporcionaría una mejora significativa en la inercia.\n",
        "\n",
        "El codo en la curva de la inercia indica el punto donde se produce una disminución significativamente más lenta en la inercia a medida que aumenta el número de clusters. Esto sugiere que agregar más clusters no proporcionará una mejora significativa en la compacidad de los clusters.\n",
        "\n",
        "Sin embargo, la elección del número óptimo de clusters también puede depender del contexto del problema y de otros factores, como el conocimiento experto o los requisitos específicos del negocio. En algunos casos, puede ser necesario ajustar el número de clusters basado en el análisis adicional de los resultados."
      ]
    },
    {
      "cell_type": "markdown",
      "metadata": {
        "_uuid": "2282aafcdd3473294f26c81e7f5d90716884f968",
        "id": "qyPCseuVqCqI"
      },
      "source": [
        "### Desafíos\n",
        "\n",
        "En esencia, K-means es NP-duro. Para $d$ dimensiones, $k$ clústeres y $n$ observaciones, encontraremos una solución en $O(n^{d k+1})$ en tiempo. Hay algunas heurísticas para lidiar con esto; un ejemplo es MiniBatch K-means, que toma porciones (lotes) de datos en lugar de ajustar todo el conjunto de datos y luego mueve los centroides tomando el promedio de los pasos anteriores. Compare la implementación de K-means y MiniBatch K-means en la [Documentacion sckit-learn](http://scikit-learn.org/stable/auto_examples/cluster/plot_mini_batch_kmeans.html).\n",
        "\n",
        "La [implementacion](http://scikit-learn.org/stable/modules/generated/sklearn.cluster.KMeans.html) del algoritmo usando `scikit-learn` tiene sus beneficios, como la posibilidad de establecer el número de inicializaciones con el parámetro de la función `n_init`, lo que nos permite identificar centroides más robustos. Además, estas ejecuciones pueden realizarse en paralelo para disminuir el tiempo de cálculo."
      ]
    },
    {
      "cell_type": "markdown",
      "metadata": {
        "_uuid": "39e06fc3bb91696b8564d1ebded2e21e108aac62",
        "id": "DwaEv3QdqCqI"
      },
      "source": [
        "## Clustering Aglomerativo o Agrupamiento Aglomerativo\n"
      ]
    },
    {
      "cell_type": "markdown",
      "metadata": {
        "_uuid": "dc672dd7e3d67cb6adb0b48c743f7604d63d03fd",
        "collapsed": true,
        "id": "U7AAf3XBqCqI"
      },
      "source": [
        "El siguiente algoritmo es el más simple y fácil de entender entre todos los algoritmos de agrupamiento sin un número fijo de clústeres.\n",
        "\n",
        "\n",
        "El algoritmo es bastante simple:\n",
        "\n",
        "1. Comenzamos asignando cada observación a su propio clúster.\n",
        "2. Luego ordenamos las distancias entre pares de los centros de clústeres en orden descendente.\n",
        "3. Tomamos los dos clústeres vecinos más cercanos y los fusionamos, y recalculamos los centros.\n",
        "4. Repetimos los pasos 2 y 3 hasta que todos los datos se fusionen en un solo clúster.\n",
        "\n",
        "El proceso de búsqueda del clúster más cercano se puede realizar con diferentes métodos de delimitación de las observaciones:\n",
        "1. Enlace simple\n",
        "$d(C_i, C_j) = min_{x_i \\in C_i, x_j \\in C_j} ||x_i - x_j||$ Usamos la distancia más corta entre dos puntos, uno de cada grupo.\n",
        "2. Enlace completo\n",
        "$d(C_i, C_j) = max_{x_i \\in C_i, x_j \\in C_j} ||x_i - x_j||$ Usamos la distancia más larga entre dos puntos, uno de cada grupo.\n",
        "3. Enlace promedio\n",
        "$d(C_i, C_j) = \\frac{1}{n_i n_j} \\sum_{x_i \\in C_i} \\sum_{x_j \\in C_j} ||x_i - x_j||$ Promediamos todas las distancias entre los puntos de ambos grupos.\n",
        "4. Enlace del centroide\n",
        "$d(C_i, C_j) = ||\\mu_i - \\mu_j||$ Medimos la distancia entre los centros de los grupos.\n",
        "\n",
        "El tercero es el más efectivo en tiempo de computación ya que no requiere recalcular las distancias cada vez que se fusionan los clústeres.\n",
        "\n",
        "Los resultados pueden visualizarse como un hermoso árbol de clústeres (dendrograma) para ayudar a reconocer el momento en que se debe detener el algoritmo para obtener resultados óptimos. Hay muchas herramientas en Python para construir estos dendrogramas para el agrupamiento aglomerativo.\n",
        "\n",
        "### Ejemplo 3\n",
        "\n",
        "Consideremos un ejemplo con los clústeres que obtuvimos de K-means:"
      ]
    },
    {
      "cell_type": "markdown",
      "source": [
        "Dendogramas"
      ],
      "metadata": {
        "id": "Hfl4WVg_nN3y"
      }
    },
    {
      "cell_type": "code",
      "execution_count": null,
      "metadata": {
        "_uuid": "73da3ed3bd0dd2ca54831cac5c4ea93194f76e14",
        "id": "l1Z0-DJYqCqI",
        "outputId": "1964261a-9e88-4eba-8fa3-7a65c9605a95",
        "colab": {
          "base_uri": "https://localhost:8080/",
          "height": 445
        }
      },
      "outputs": [
        {
          "output_type": "display_data",
          "data": {
            "text/plain": [
              "<Figure size 1000x500 with 1 Axes>"
            ],
            "image/png": "[encoded data removed]"
          },
          "metadata": {}
        }
      ],
      "source": [
        "import numpy as np\n",
        "import matplotlib.pyplot as plt\n",
        "from scipy.cluster import hierarchy\n",
        "from scipy.spatial.distance import pdist\n",
        "\n",
        "X = np.zeros((150, 2))\n",
        "\n",
        "np.random.seed(seed=42)\n",
        "X[:50, 0] = np.random.normal(loc=0.0, scale=.3, size=50)\n",
        "X[:50, 1] = np.random.normal(loc=0.0, scale=.3, size=50)\n",
        "\n",
        "X[50:100, 0] = np.random.normal(loc=2.0, scale=.5, size=50)\n",
        "X[50:100, 1] = np.random.normal(loc=-1.0, scale=.2, size=50)\n",
        "\n",
        "X[100:150, 0] = np.random.normal(loc=-1.0, scale=.2, size=50)\n",
        "X[100:150, 1] = np.random.normal(loc=2.0, scale=.5, size=50)\n",
        "\n",
        "# pdist will calculate the upper triangle of the pairwise distance matrix\n",
        "distance_mat = pdist(X)\n",
        "# linkage — is an implementation if agglomerative algorithm\n",
        "Z = hierarchy.linkage(distance_mat, 'single')\n",
        "plt.figure(figsize=(10, 5))\n",
        "dn = hierarchy.dendrogram(Z, color_threshold=0.2)"
      ]
    },
    {
      "cell_type": "markdown",
      "metadata": {
        "id": "akuEpJ6_qCqJ"
      },
      "source": [
        "Detalles del código:\n",
        "\n",
        "- Generación de datos sintéticos: Se generan datos sintéticos distribuidos en tres grupos en el plano 2D utilizando la función `numpy.random.normal`. Estos son los mismos datos del ejemplo anterior.\n",
        "\n",
        "- Cálculo de la matriz de distancias: La función `pdist` de la biblioteca scipy se utiliza para calcular la matriz de distancias euclidianas entre pares de puntos en el conjunto de datos. Esta matriz contiene las distancias entre cada par de puntos en el conjunto de datos.\n",
        "\n",
        "- Clustering aglomerativo: Se utiliza la función `linkage` para calcular los enlaces entre los clusters. Se pasa la matriz de distancias y el método de enlace `'single'`, que especifica el método de enlace para calcular la distancia entre los nuevos clusters.\n",
        "\n",
        "- Visualización del dendrograma: Se utiliza la función `dendrogram` para visualizar el dendrograma resultante del clustering aglomerativo. Un dendrograma es un diagrama de árbol que muestra la agrupación jerárquica de los datos. El parámetro `color_threshold` se utiliza para definir el umbral de color para la línea horizontal que indica dónde se deben unir los clusters.\n",
        "\n",
        "#### ¿Qué inferimos de los datos?\n",
        "\n",
        "- Distribución de los datos: Los datos generados muestran una distribución en tres grupos distintos, lo que sugiere la presencia de tres clusters subyacentes en los datos.\n",
        "\n",
        "- Proceso de agrupamiento: El dendrograma generado muestra cómo los puntos de datos se agrupan gradualmente a medida que se aumenta el umbral de distancia. Esto proporciona una visualización útil del proceso de agrupamiento y cómo los grupos se fusionan a diferentes niveles de similitud.\n",
        "\n",
        "- Elección del número de clusters: La elección del número de clusters en el clustering aglomerativo puede requerir una interpretación subjetiva. En el dendrograma, los cortes donde las distancias entre los grupos comienzan a aumentar significativamente pueden indicar puntos donde los grupos se fusionan en clusters más grandes. En este ejemplo, un umbral de distancia de 0.5 se utilizó como referencia para identificar los clusters.\n",
        "\n",
        "Para entender el umbral de distancia podemos imaginarnos el trazar una linea perpendicular al eje Y en el valor de 0.5, y por este motivo podriamos el numero de clusteres a elegir seria 3. En este caso la linea imageniria que trazamos en el valor de 0.5, produce tres intersecciones y por este motivo se pintan de color azul.\n",
        "\n",
        "Veamos que sucede si cambiamos dicho valor por 0.4:"
      ]
    },
    {
      "cell_type": "code",
      "execution_count": null,
      "metadata": {
        "id": "Od5HUarWqCqJ",
        "outputId": "5929a728-1ba9-4ceb-c68a-1d86397ad085",
        "colab": {
          "base_uri": "https://localhost:8080/",
          "height": 445
        }
      },
      "outputs": [
        {
          "output_type": "display_data",
          "data": {
            "text/plain": [
              "<Figure size 1000x500 with 1 Axes>"
            ],
            "image/png": "[encoded data removed]"
          },
          "metadata": {}
        }
      ],
      "source": [
        "Z = hierarchy.linkage(distance_mat, 'single')\n",
        "plt.figure(figsize=(10, 5))\n",
        "dn = hierarchy.dendrogram(Z, color_threshold=0.4)"
      ]
    },
    {
      "cell_type": "markdown",
      "metadata": {
        "id": "69oj10kVqCqJ"
      },
      "source": [
        "Vemos que ahora estariamos teniendo en cuenta cuatro agrupaciones dado que la linea imaginaria que trazariamos tendria 4 intersecciones y por este motivo se pintan de color azul 4 lineas."
      ]
    },
    {
      "cell_type": "markdown",
      "metadata": {
        "_uuid": "ccef0b234a9b91b995633a69225f7bbb307c4038",
        "id": "Pcw1m9SVqCqJ"
      },
      "source": [
        "## Métricas de Presición\n",
        "\n",
        "A diferencia de la clasificación, es difícil evaluar la calidad de los resultados del agrupamiento. Aquí, una métrica no puede depender de las etiquetas sino solo de la calidad de la división. En segundo lugar, generalmente no tenemos las etiquetas verdaderas de las observaciones cuando usamos el agrupamiento.\n",
        "\n",
        "Hay métricas de bondad interna y externa. Las métricas externas utilizan la información sobre la división verdadera conocida mientras que las métricas internas no utilizan ninguna información externa y evalúan la bondad de los clústeres basándose solo en los datos iniciales. El número óptimo de clústeres generalmente se define con respecto a algunas métricas internas.\n",
        "\n",
        "Todas las métricas descritas a continuación están implementadas en `sklearn.metrics`.\n",
        "\n",
        "**Índice de Rand Ajustado (ARI)**\n",
        "\n",
        "Aquí, asumimos que las etiquetas verdaderas de los objetos son conocidas. Esta métrica no depende de los valores de las etiquetas, sino de la división de los clústeres de los datos. Sea $N$ el número de observaciones en una muestra. Sea $a$ el número de pares de observaciones con las mismas etiquetas y ubicadas en el mismo clúster, y sea $b$ el número de observaciones con diferentes etiquetas y ubicadas en diferentes clústeres. El Índice Rand se puede calcular usando la siguiente fórmula:\n",
        "\n",
        "$$\\Large \\text{RI} = \\frac{2(a + b)}{n(n-1)}.$$\n",
        "\n",
        "En otras palabras, evalúa la proporción de observaciones para las cuales estas divisiones (inicial y el resultado de agrupamiento) son consistentes. El Índice Rand (RI) evalúa la similitud de las dos divisiones de la misma muestra. Para que este índice esté cerca de cero para cualquier resultado de agrupamiento con cualquier $n$ y número de clústeres, es esencial escalarlo, de ahí el Índice Rand Ajustado:\n",
        "\n",
        "$$\\Large \\text{ARI} = \\frac{\\text{RI} - E[\\text{RI}]}{\\max(\\text{RI}) - E[\\text{RI}]}.$$\n",
        "\n",
        "Esta métrica es simétrica y no depende de la permutación de las etiquetas. Por lo tanto, este índice es una medida de las distancias entre diferentes divisiones de muestras. $\\text{ARI}$ toma valores en el rango $[-1, 1]$. Los valores negativos indican la independencia de las divisiones, y los valores positivos indican que las divisiones son consistentes (coinciden cuando $\\text{ARI} = 1$).\n",
        "\n",
        "**Silueta (Silhouette)**\n",
        "\n",
        "A diferencia de las métricas descritas anteriormente, este coeficiente no implica el conocimiento sobre las verdaderas etiquetas de los objetos. Nos permite estimar la calidad del agrupamiento utilizando solo la muestra inicial, sin etiquetas, y el resultado del agrupamiento. Para empezar, para cada observación, se calcula el coeficiente de silueta. Sea $a$ la media de la distancia entre un objeto y otros objetos dentro de un clúster, y sea $b$ la media de la distancia de un objeto a un objeto del clúster más cercano (diferente del al que pertenece el objeto). Entonces, la medida de silueta para este objeto es:\n",
        "\n",
        "$$\\Large s = \\frac{b - a}{\\max(a, b)}.$$\n",
        "\n",
        "La silueta de una muestra es el valor medio de los valores de silueta de esta muestra. Por lo tanto, la distancia de la silueta muestra hasta qué punto la distancia entre los objetos de la misma clase difiere de la distancia media entre los objetos de diferentes clústeres. Este coeficiente toma valores en el rango $[-1, 1]$. Los valores cercanos a -1 corresponden a resultados de agrupamiento deficientes, mientras que los valores más cercanos a 1 corresponden a clústeres densos y bien definidos. Por lo tanto, cuanto mayor sea el valor de la silueta, mejores serán los resultados del agrupamiento.\n",
        "\n",
        "Con la ayuda de la silueta, podemos identificar el número óptimo de clústeres $k$ (si no lo conocemos ya a partir de los datos) tomando el número de clústeres que maximiza el coeficiente de silueta."
      ]
    },
    {
      "cell_type": "markdown",
      "source": [
        "### Índice de Rand Ajustado (ARI) Ejercicio"
      ],
      "metadata": {
        "id": "Edlfw8SBp1Ew"
      }
    },
    {
      "cell_type": "code",
      "source": [
        "from itertools import combinations\n",
        "from math import comb\n",
        "\n",
        "# Etiquetas verdaderas (agrupamiento conocido)\n",
        "true_labels = [0, 0, 1, 1, 2, 2]\n",
        "\n",
        "# Etiquetas del agrupamiento resultante\n",
        "pred_labels = [0, 0, 0, 1, 1, 1]\n",
        "\n",
        "# Número de observaciones\n",
        "n = len(true_labels)\n",
        "\n",
        "# Calcular todos los pares posibles de observaciones\n",
        "pairs = list(combinations(range(n), 2))\n",
        "\n",
        "# Contadores para pares\n",
        "a = 0  # Pares en el mismo clúster en ambas etiquetas\n",
        "b = 0  # Pares en diferentes clústeres en ambas etiquetas\n",
        "c = 0  # Pares en el mismo clúster en true_labels pero no en pred_labels\n",
        "d = 0  # Pares en diferentes clústeres en true_labels pero no en pred_labels\n",
        "\n",
        "# Contar los pares\n",
        "for (i, j) in pairs:\n",
        "    same_cluster_true = (true_labels[i] == true_labels[j])\n",
        "    same_cluster_pred = (pred_labels[i] == pred_labels[j])\n",
        "\n",
        "    if same_cluster_true and same_cluster_pred:\n",
        "        a += 1\n",
        "    elif not same_cluster_true and not same_cluster_pred:\n",
        "        b += 1\n",
        "    elif same_cluster_true and not same_cluster_pred:\n",
        "        c += 1\n",
        "    elif not same_cluster_true and same_cluster_pred:\n",
        "        d += 1\n",
        "\n",
        "# Calcular el Índice de Rand (RI)\n",
        "RI = (a + b) / comb(n, 2)\n",
        "\n",
        "# Calcular el valor esperado del RI y el ARI\n",
        "expected_RI = ((a + c) * (a + d) + (b + c) * (b + d)) / comb(n, 2)**2\n",
        "max_RI = (a + b + c + d) / comb(n, 2)\n",
        "\n",
        "ARI = (RI - expected_RI) / (max_RI - expected_RI)\n",
        "\n",
        "# Mostrar el resultado\n",
        "print(\"Índice de Rand Ajustado (ARI):\", ARI)\n"
      ],
      "metadata": {
        "colab": {
          "base_uri": "https://localhost:8080/"
        },
        "id": "s2HWNkYkpacG",
        "outputId": "d548cedc-730c-4ef9-caca-9e5e196aa7ba"
      },
      "execution_count": null,
      "outputs": [
        {
          "output_type": "stream",
          "name": "stdout",
          "text": [
            "Índice de Rand Ajustado (ARI): 0.24242424242424224\n"
          ]
        }
      ]
    },
    {
      "cell_type": "code",
      "source": [
        "from sklearn.metrics import adjusted_rand_score\n",
        "\n",
        "# Etiquetas verdaderas (agrupamiento conocido)\n",
        "true_labels = [0, 0, 1, 1, 2, 2]\n",
        "\n",
        "# Etiquetas del agrupamiento resultante\n",
        "pred_labels = [0, 0, 0, 1, 1, 1]\n",
        "\n",
        "# Calcular el ARI\n",
        "ari = adjusted_rand_score(true_labels, pred_labels)\n",
        "\n",
        "# Mostrar el resultado\n",
        "print(\"Índice de Rand Ajustado (ARI):\", ari)"
      ],
      "metadata": {
        "colab": {
          "base_uri": "https://localhost:8080/"
        },
        "id": "ilMFNC-Dp5sW",
        "outputId": "931aa101-69bb-42e4-dfec-cebbbe06c5df"
      },
      "execution_count": null,
      "outputs": [
        {
          "output_type": "stream",
          "name": "stdout",
          "text": [
            "Índice de Rand Ajustado (ARI): 0.24242424242424243\n"
          ]
        }
      ]
    },
    {
      "cell_type": "markdown",
      "source": [
        "### Silueta (Silhouette)"
      ],
      "metadata": {
        "id": "z2cYSdC0p8_J"
      }
    },
    {
      "cell_type": "code",
      "source": [
        "import numpy as np\n",
        "\n",
        "# Etiquetas del agrupamiento resultante\n",
        "labels = np.array([0, 0, 0, 1, 1, 1])\n",
        "\n",
        "# Datos de ejemplo (en 2D para simplicidad)\n",
        "X = np.array([\n",
        "    [1, 2], [2, 2], [3, 2],  # Clúster 0\n",
        "    [8, 8], [9, 8], [8, 9]   # Clúster 1\n",
        "])\n",
        "\n",
        "def euclidean_distance(a, b):\n",
        "    return np.sqrt(np.sum((a - b) ** 2))\n",
        "\n",
        "def silhouette_score(X, labels):\n",
        "    n_samples = len(X)\n",
        "    unique_labels = np.unique(labels)\n",
        "    silhouette_scores = []\n",
        "\n",
        "    for i in range(n_samples):\n",
        "        same_cluster = X[labels == labels[i]]\n",
        "        other_clusters = [X[labels == label] for label in unique_labels if label != labels[i]]\n",
        "\n",
        "        # a(i): Mean distance to other points in the same cluster\n",
        "        a_i = np.mean([euclidean_distance(X[i], point) for point in same_cluster if not np.array_equal(X[i], point)])\n",
        "\n",
        "        # b(i): Mean distance to the nearest cluster\n",
        "        b_i = np.min([np.mean([euclidean_distance(X[i], point) for point in cluster]) for cluster in other_clusters])\n",
        "\n",
        "        # s(i): Silhouette coefficient for the point\n",
        "        s_i = (b_i - a_i) / max(a_i, b_i)\n",
        "        silhouette_scores.append(s_i)\n",
        "\n",
        "    # Silhouette score for the entire dataset\n",
        "    return np.mean(silhouette_scores)\n",
        "\n",
        "# Calcular la silueta\n",
        "silhouette_avg = silhouette_score(X, labels)\n",
        "\n",
        "# Mostrar el resultado\n",
        "print(\"Coeficiente de Silueta (Silhouette Score):\", silhouette_avg)\n"
      ],
      "metadata": {
        "colab": {
          "base_uri": "https://localhost:8080/"
        },
        "id": "TQzbX3_jqs6B",
        "outputId": "78c9d7c4-e131-4c00-98d9-08b2ca55a251"
      },
      "execution_count": null,
      "outputs": [
        {
          "output_type": "stream",
          "name": "stdout",
          "text": [
            "Coeficiente de Silueta (Silhouette Score): 0.8623965120143217\n"
          ]
        }
      ]
    },
    {
      "cell_type": "markdown",
      "metadata": {
        "_uuid": "7bd5d42025e9dc5b1170c1c6d16982782c2fc291",
        "id": "EnDPgL83qCqJ"
      },
      "source": [
        "Para concluir, echemos un vistazo a cómo funcionan estas métricas con el conjunto de datos de números escritos a mano MNIST."
      ]
    },
    {
      "cell_type": "code",
      "execution_count": null,
      "metadata": {
        "_uuid": "aecea33006812a0747e0b92957047bbb9d9df0b2",
        "id": "jdeuU9rnqCqJ",
        "outputId": "826cd534-d559-4548-d390-91e237e585a3",
        "colab": {
          "base_uri": "https://localhost:8080/",
          "height": 229
        }
      },
      "outputs": [
        {
          "output_type": "stream",
          "name": "stderr",
          "text": [
            "/usr/local/lib/python3.10/dist-packages/sklearn/cluster/_kmeans.py:870: FutureWarning: The default value of `n_init` will change from 10 to 'auto' in 1.4. Set the value of `n_init` explicitly to suppress the warning\n",
            "  warnings.warn(\n"
          ]
        },
        {
          "output_type": "execute_result",
          "data": {
            "text/plain": [
              "                    ARI       AMI  Homogenity  Completeness  V-measure  \\\n",
              "K-means        0.662295  0.736567    0.735448      0.742972   0.739191   \n",
              "Agglomerative  0.794003  0.866832    0.857513      0.879096   0.868170   \n",
              "Affinity       0.174871  0.612364    0.958899      0.486801   0.645767   \n",
              "Spectral       0.756461  0.852040    0.831691      0.876614   0.853562   \n",
              "\n",
              "               Silhouette  \n",
              "K-means          0.182097  \n",
              "Agglomerative    0.178497  \n",
              "Affinity         0.115161  \n",
              "Spectral         0.182729  "
            ],
            "text/html": [
              "\n",
              "  <div id=\"df-ea4c4787-33ef-4c29-b98d-7396730ee106\" class=\"colab-df-container\">\n",
              "    <div>\n",
              "<style scoped>\n",
              "    .dataframe tbody tr th:only-of-type {\n",
              "        vertical-align: middle;\n",
              "    }\n",
              "\n",
              "    .dataframe tbody tr th {\n",
              "        vertical-align: top;\n",
              "    }\n",
              "\n",
              "    .dataframe thead th {\n",
              "        text-align: right;\n",
              "    }\n",
              "</style>\n",
              "<table border=\"1\" class=\"dataframe\">\n",
              "  <thead>\n",
              "    <tr style=\"text-align: right;\">\n",
              "      <th></th>\n",
              "      <th>ARI</th>\n",
              "      <th>AMI</th>\n",
              "      <th>Homogenity</th>\n",
              "      <th>Completeness</th>\n",
              "      <th>V-measure</th>\n",
              "      <th>Silhouette</th>\n",
              "    </tr>\n",
              "  </thead>\n",
              "  <tbody>\n",
              "    <tr>\n",
              "      <th>K-means</th>\n",
              "      <td>0.662295</td>\n",
              "      <td>0.736567</td>\n",
              "      <td>0.735448</td>\n",
              "      <td>0.742972</td>\n",
              "      <td>0.739191</td>\n",
              "      <td>0.182097</td>\n",
              "    </tr>\n",
              "    <tr>\n",
              "      <th>Agglomerative</th>\n",
              "      <td>0.794003</td>\n",
              "      <td>0.866832</td>\n",
              "      <td>0.857513</td>\n",
              "      <td>0.879096</td>\n",
              "      <td>0.868170</td>\n",
              "      <td>0.178497</td>\n",
              "    </tr>\n",
              "    <tr>\n",
              "      <th>Affinity</th>\n",
              "      <td>0.174871</td>\n",
              "      <td>0.612364</td>\n",
              "      <td>0.958899</td>\n",
              "      <td>0.486801</td>\n",
              "      <td>0.645767</td>\n",
              "      <td>0.115161</td>\n",
              "    </tr>\n",
              "    <tr>\n",
              "      <th>Spectral</th>\n",
              "      <td>0.756461</td>\n",
              "      <td>0.852040</td>\n",
              "      <td>0.831691</td>\n",
              "      <td>0.876614</td>\n",
              "      <td>0.853562</td>\n",
              "      <td>0.182729</td>\n",
              "    </tr>\n",
              "  </tbody>\n",
              "</table>\n",
              "</div>\n",
              "    <div class=\"colab-df-buttons\">\n",
              "\n",
              "  <div class=\"colab-df-container\">\n",
              "    <button class=\"colab-df-convert\" onclick=\"convertToInteractive('df-ea4c4787-33ef-4c29-b98d-7396730ee106')\"\n",
              "            title=\"Convert this dataframe to an interactive table.\"\n",
              "            style=\"display:none;\">\n",
              "\n",
              "  <svg xmlns=\"http://www.w3.org/2000/svg\" height=\"24px\" viewBox=\"0 -960 960 960\">\n",
              "    <path d=\"M120-120v-720h720v720H120Zm60-500h600v-160H180v160Zm220 220h160v-160H400v160Zm0 220h160v-160H400v160ZM180-400h160v-160H180v160Zm440 0h160v-160H620v160ZM180-180h160v-160H180v160Zm440 0h160v-160H620v160Z\"/>\n",
              "  </svg>\n",
              "    </button>\n",
              "\n",
              "  <style>\n",
              "    .colab-df-container {\n",
              "      display:flex;\n",
              "      gap: 12px;\n",
              "    }\n",
              "\n",
              "    .colab-df-convert {\n",
              "      background-color: #E8F0FE;\n",
              "      border: none;\n",
              "      border-radius: 50%;\n",
              "      cursor: pointer;\n",
              "      display: none;\n",
              "      fill: #1967D2;\n",
              "      height: 32px;\n",
              "      padding: 0 0 0 0;\n",
              "      width: 32px;\n",
              "    }\n",
              "\n",
              "    .colab-df-convert:hover {\n",
              "      background-color: #E2EBFA;\n",
              "      box-shadow: 0px 1px 2px rgba(60, 64, 67, 0.3), 0px 1px 3px 1px rgba(60, 64, 67, 0.15);\n",
              "      fill: #174EA6;\n",
              "    }\n",
              "\n",
              "    .colab-df-buttons div {\n",
              "      margin-bottom: 4px;\n",
              "    }\n",
              "\n",
              "    [theme=dark] .colab-df-convert {\n",
              "      background-color: #3B4455;\n",
              "      fill: #D2E3FC;\n",
              "    }\n",
              "\n",
              "    [theme=dark] .colab-df-convert:hover {\n",
              "      background-color: #434B5C;\n",
              "      box-shadow: 0px 1px 3px 1px rgba(0, 0, 0, 0.15);\n",
              "      filter: drop-shadow(0px 1px 2px rgba(0, 0, 0, 0.3));\n",
              "      fill: #FFFFFF;\n",
              "    }\n",
              "  </style>\n",
              "\n",
              "    <script>\n",
              "      const buttonEl =\n",
              "        document.querySelector('#df-ea4c4787-33ef-4c29-b98d-7396730ee106 button.colab-df-convert');\n",
              "      buttonEl.style.display =\n",
              "        google.colab.kernel.accessAllowed ? 'block' : 'none';\n",
              "\n",
              "      async function convertToInteractive(key) {\n",
              "        const element = document.querySelector('#df-ea4c4787-33ef-4c29-b98d-7396730ee106');\n",
              "        const dataTable =\n",
              "          await google.colab.kernel.invokeFunction('convertToInteractive',\n",
              "                                                    [key], {});\n",
              "        if (!dataTable) return;\n",
              "\n",
              "        const docLinkHtml = 'Like what you see? Visit the ' +\n",
              "          '<a target=\"_blank\" href=https://colab.research.google.com/notebooks/data_table.ipynb>data table notebook</a>'\n",
              "          + ' to learn more about interactive tables.';\n",
              "        element.innerHTML = '';\n",
              "        dataTable['output_type'] = 'display_data';\n",
              "        await google.colab.output.renderOutput(dataTable, element);\n",
              "        const docLink = document.createElement('div');\n",
              "        docLink.innerHTML = docLinkHtml;\n",
              "        element.appendChild(docLink);\n",
              "      }\n",
              "    </script>\n",
              "  </div>\n",
              "\n",
              "\n",
              "<div id=\"df-78cc2bcf-4633-468e-9dbb-4004afc00a60\">\n",
              "  <button class=\"colab-df-quickchart\" onclick=\"quickchart('df-78cc2bcf-4633-468e-9dbb-4004afc00a60')\"\n",
              "            title=\"Suggest charts\"\n",
              "            style=\"display:none;\">\n",
              "\n",
              "<svg xmlns=\"http://www.w3.org/2000/svg\" height=\"24px\"viewBox=\"0 0 24 24\"\n",
              "     width=\"24px\">\n",
              "    <g>\n",
              "        <path d=\"M19 3H5c-1.1 0-2 .9-2 2v14c0 1.1.9 2 2 2h14c1.1 0 2-.9 2-2V5c0-1.1-.9-2-2-2zM9 17H7v-7h2v7zm4 0h-2V7h2v10zm4 0h-2v-4h2v4z\"/>\n",
              "    </g>\n",
              "</svg>\n",
              "  </button>\n",
              "\n",
              "<style>\n",
              "  .colab-df-quickchart {\n",
              "      --bg-color: #E8F0FE;\n",
              "      --fill-color: #1967D2;\n",
              "      --hover-bg-color: #E2EBFA;\n",
              "      --hover-fill-color: #174EA6;\n",
              "      --disabled-fill-color: #AAA;\n",
              "      --disabled-bg-color: #DDD;\n",
              "  }\n",
              "\n",
              "  [theme=dark] .colab-df-quickchart {\n",
              "      --bg-color: #3B4455;\n",
              "      --fill-color: #D2E3FC;\n",
              "      --hover-bg-color: #434B5C;\n",
              "      --hover-fill-color: #FFFFFF;\n",
              "      --disabled-bg-color: #3B4455;\n",
              "      --disabled-fill-color: #666;\n",
              "  }\n",
              "\n",
              "  .colab-df-quickchart {\n",
              "    background-color: var(--bg-color);\n",
              "    border: none;\n",
              "    border-radius: 50%;\n",
              "    cursor: pointer;\n",
              "    display: none;\n",
              "    fill: var(--fill-color);\n",
              "    height: 32px;\n",
              "    padding: 0;\n",
              "    width: 32px;\n",
              "  }\n",
              "\n",
              "  .colab-df-quickchart:hover {\n",
              "    background-color: var(--hover-bg-color);\n",
              "    box-shadow: 0 1px 2px rgba(60, 64, 67, 0.3), 0 1px 3px 1px rgba(60, 64, 67, 0.15);\n",
              "    fill: var(--button-hover-fill-color);\n",
              "  }\n",
              "\n",
              "  .colab-df-quickchart-complete:disabled,\n",
              "  .colab-df-quickchart-complete:disabled:hover {\n",
              "    background-color: var(--disabled-bg-color);\n",
              "    fill: var(--disabled-fill-color);\n",
              "    box-shadow: none;\n",
              "  }\n",
              "\n",
              "  .colab-df-spinner {\n",
              "    border: 2px solid var(--fill-color);\n",
              "    border-color: transparent;\n",
              "    border-bottom-color: var(--fill-color);\n",
              "    animation:\n",
              "      spin 1s steps(1) infinite;\n",
              "  }\n",
              "\n",
              "  @keyframes spin {\n",
              "    0% {\n",
              "      border-color: transparent;\n",
              "      border-bottom-color: var(--fill-color);\n",
              "      border-left-color: var(--fill-color);\n",
              "    }\n",
              "    20% {\n",
              "      border-color: transparent;\n",
              "      border-left-color: var(--fill-color);\n",
              "      border-top-color: var(--fill-color);\n",
              "    }\n",
              "    30% {\n",
              "      border-color: transparent;\n",
              "      border-left-color: var(--fill-color);\n",
              "      border-top-color: var(--fill-color);\n",
              "      border-right-color: var(--fill-color);\n",
              "    }\n",
              "    40% {\n",
              "      border-color: transparent;\n",
              "      border-right-color: var(--fill-color);\n",
              "      border-top-color: var(--fill-color);\n",
              "    }\n",
              "    60% {\n",
              "      border-color: transparent;\n",
              "      border-right-color: var(--fill-color);\n",
              "    }\n",
              "    80% {\n",
              "      border-color: transparent;\n",
              "      border-right-color: var(--fill-color);\n",
              "      border-bottom-color: var(--fill-color);\n",
              "    }\n",
              "    90% {\n",
              "      border-color: transparent;\n",
              "      border-bottom-color: var(--fill-color);\n",
              "    }\n",
              "  }\n",
              "</style>\n",
              "\n",
              "  <script>\n",
              "    async function quickchart(key) {\n",
              "      const quickchartButtonEl =\n",
              "        document.querySelector('#' + key + ' button');\n",
              "      quickchartButtonEl.disabled = true;  // To prevent multiple clicks.\n",
              "      quickchartButtonEl.classList.add('colab-df-spinner');\n",
              "      try {\n",
              "        const charts = await google.colab.kernel.invokeFunction(\n",
              "            'suggestCharts', [key], {});\n",
              "      } catch (error) {\n",
              "        console.error('Error during call to suggestCharts:', error);\n",
              "      }\n",
              "      quickchartButtonEl.classList.remove('colab-df-spinner');\n",
              "      quickchartButtonEl.classList.add('colab-df-quickchart-complete');\n",
              "    }\n",
              "    (() => {\n",
              "      let quickchartButtonEl =\n",
              "        document.querySelector('#df-78cc2bcf-4633-468e-9dbb-4004afc00a60 button');\n",
              "      quickchartButtonEl.style.display =\n",
              "        google.colab.kernel.accessAllowed ? 'block' : 'none';\n",
              "    })();\n",
              "  </script>\n",
              "</div>\n",
              "    </div>\n",
              "  </div>\n"
            ],
            "application/vnd.google.colaboratory.intrinsic+json": {
              "type": "dataframe",
              "variable_name": "results",
              "summary": "{\n  \"name\": \"results\",\n  \"rows\": 4,\n  \"fields\": [\n    {\n      \"column\": \"ARI\",\n      \"properties\": {\n        \"dtype\": \"number\",\n        \"std\": 0.2867604566388586,\n        \"min\": 0.17487060746614233,\n        \"max\": 0.7940031835568753,\n        \"num_unique_values\": 4,\n        \"samples\": [\n          0.7940031835568753,\n          0.7564608880380487,\n          0.6622951724190321\n        ],\n        \"semantic_type\": \"\",\n        \"description\": \"\"\n      }\n    },\n    {\n      \"column\": \"AMI\",\n      \"properties\": {\n        \"dtype\": \"number\",\n        \"std\": 0.11837329184830694,\n        \"min\": 0.6123638961816713,\n        \"max\": 0.8668321489750318,\n        \"num_unique_values\": 4,\n        \"samples\": [\n          0.8668321489750318,\n          0.8520396374862459,\n          0.7365665327011875\n        ],\n        \"semantic_type\": \"\",\n        \"description\": \"\"\n      }\n    },\n    {\n      \"column\": \"Homogenity\",\n      \"properties\": {\n        \"dtype\": \"number\",\n        \"std\": 0.09184255280180036,\n        \"min\": 0.7354478337258163,\n        \"max\": 0.9588987512563558,\n        \"num_unique_values\": 4,\n        \"samples\": [\n          0.8575128719504722,\n          0.831690618469579,\n          0.7354478337258163\n        ],\n        \"semantic_type\": \"\",\n        \"description\": \"\"\n      }\n    },\n    {\n      \"column\": \"Completeness\",\n      \"properties\": {\n        \"dtype\": \"number\",\n        \"std\": 0.18436135883454718,\n        \"min\": 0.4868009742494615,\n        \"max\": 0.8790955851724198,\n        \"num_unique_values\": 4,\n        \"samples\": [\n          0.8790955851724198,\n          0.8766144929016136,\n          0.742972371819972\n        ],\n        \"semantic_type\": \"\",\n        \"description\": \"\"\n      }\n    },\n    {\n      \"column\": \"V-measure\",\n      \"properties\": {\n        \"dtype\": \"number\",\n        \"std\": 0.10460211948485644,\n        \"min\": 0.6457673583009997,\n        \"max\": 0.8681701126909083,\n        \"num_unique_values\": 4,\n        \"samples\": [\n          0.8681701126909083,\n          0.8535618665632166,\n          0.7391909544031283\n        ],\n        \"semantic_type\": \"\",\n        \"description\": \"\"\n      }\n    },\n    {\n      \"column\": \"Silhouette\",\n      \"properties\": {\n        \"dtype\": \"number\",\n        \"std\": 0.03302587646255933,\n        \"min\": 0.11516087038825966,\n        \"max\": 0.18272860285856599,\n        \"num_unique_values\": 4,\n        \"samples\": [\n          0.17849659940596496,\n          0.18272860285856599,\n          0.1820968000477768\n        ],\n        \"semantic_type\": \"\",\n        \"description\": \"\"\n      }\n    }\n  ]\n}"
            }
          },
          "metadata": {},
          "execution_count": 25
        }
      ],
      "source": [
        "from sklearn import metrics\n",
        "from sklearn import datasets\n",
        "import pandas as pd\n",
        "from sklearn.cluster import KMeans, AgglomerativeClustering, AffinityPropagation, SpectralClustering\n",
        "\n",
        "\n",
        "data = datasets.load_digits()\n",
        "X, y = data.data, data.target\n",
        "\n",
        "algorithms = []\n",
        "algorithms.append(KMeans(n_clusters=10, random_state=1))\n",
        "algorithms.append(AgglomerativeClustering(n_clusters=10))\n",
        "algorithms.append(AffinityPropagation())\n",
        "algorithms.append(SpectralClustering(n_clusters=10, random_state=1,\n",
        "                                     affinity='nearest_neighbors'))\n",
        "\n",
        "data = []\n",
        "for algo in algorithms:\n",
        "    algo.fit(X)\n",
        "    data.append(({\n",
        "        'ARI': metrics.adjusted_rand_score(y, algo.labels_),\n",
        "        'AMI': metrics.adjusted_mutual_info_score(y, algo.labels_,\n",
        "                                                 average_method='arithmetic'),\n",
        "        'Homogenity': metrics.homogeneity_score(y, algo.labels_),\n",
        "        'Completeness': metrics.completeness_score(y, algo.labels_),\n",
        "        'V-measure': metrics.v_measure_score(y, algo.labels_),\n",
        "        'Silhouette': metrics.silhouette_score(X, algo.labels_)}))\n",
        "\n",
        "results = pd.DataFrame(data=data, columns=['ARI', 'AMI', 'Homogenity',\n",
        "                                           'Completeness', 'V-measure',\n",
        "                                           'Silhouette'],\n",
        "                       index=['K-means', 'Agglomerative', 'Affinity',\n",
        "                              'Spectral'])\n",
        "\n",
        "results"
      ]
    },
    {
      "cell_type": "markdown",
      "metadata": {
        "id": "U_8f-ygMqCqJ"
      },
      "source": [
        "\n",
        "¿Qué acabamos de hacer?\n",
        "\n",
        "- Se importan las métricas de evaluación de `sklearn.metrics`, el conjunto de datos de dígitos de `sklearn.datasets`, y pandas para el manejo de datos tabulares.\n",
        "\n",
        "- Se carga el conjunto de datos de dígitos de `sklearn`, que consiste en imágenes de dígitos escritos a mano y sus etiquetas correspondientes.\n",
        "\n",
        "- Se define una lista llamada algorithms que contendrá los diferentes algoritmos de agrupamiento que se evaluarán. En este caso, se incluyen `KMeans`, `AgglomerativeClustering`, `AffinityPropagation`,  y `SpectralClustering`.\n",
        "\n",
        "- Se itera sobre cada algoritmo en la lista algorithms. Para cada algoritmo:\n",
        "\n",
        "- Se ajusta el modelo a los datos `X`.\n",
        "\n",
        "- Se calculan varias métricas de evaluación utilizando las etiquetas reales y y las etiquetas predichas por el algoritmo.\n",
        "\n",
        "- Las métricas de evaluación calculadas incluyen ARI (Índice de Rand ajustado), AMI (Información Mutua Ajustada), homogeneidad, completitud, V-medida y silueta.\n",
        "\n",
        "- Las métricas de evaluación se almacenan en un diccionario y se añaden a la lista `data`.\n",
        "\n",
        "Finalmente, se crea un DataFrame de Pandas llamado `results` que contiene las métricas de evaluación calculadas para cada algoritmo de agrupamiento. Cada fila del DataFrame corresponde a un algoritmo y cada columna corresponde a una métrica de evaluación.\n",
        "\n",
        "\n",
        "Acá tambien mencionamos otros dos algoritmos, además de k-means y de clustering aglomerativo:\n",
        "\n",
        "- Propagación de Afinidad (Affinity Propagation): Este algoritmo es una técnica de agrupamiento basada en la idea de que los puntos de datos se comunican entre sí para determinar los centroides de los clústeres. Utiliza la matriz de afinidad para calcular la responsabilidad y la disponibilidad entre los puntos, iterativamente seleccionando ejemplos como representantes de clústeres.\n",
        "\n",
        "- Agrupamiento Espectral (Spectral Clustering): Es un algoritmo de agrupamiento que utiliza la información espectral de la matriz de afinidad de los datos para realizar el agrupamiento. Primero, se transforman los datos en un espacio de características definido por los primeros k vectores propios de la matriz Laplaciana, luego se aplica un algoritmo de agrupamiento (por ejemplo, k-medias) en este espacio reducido.\n",
        "\n",
        "Estos algoritmos se incluyen en el ejemplo para demostrar cómo se desempeñan en comparación con los demás algoritmos en términos de varias métricas de evaluación de agrupamiento.\n",
        "\n",
        "> La comparación de múltiples algoritmos proporciona una idea de cuál podría ser más adecuado para diferentes conjuntos de datos y objetivos de agrupamiento."
      ]
    }
  ],
  "metadata": {
    "colab": {
      "provenance": []
    },
    "kernelspec": {
      "display_name": "Python 3",
      "language": "python",
      "name": "python3"
    },
    "language_info": {
      "codemirror_mode": {
        "name": "ipython",
        "version": 3
      },
      "file_extension": ".py",
      "mimetype": "text/x-python",
      "name": "python",
      "nbconvert_exporter": "python",
      "pygments_lexer": "ipython3",
      "version": "3.8.10"
    }
  },
  "nbformat": 4,
  "nbformat_minor": 0
}