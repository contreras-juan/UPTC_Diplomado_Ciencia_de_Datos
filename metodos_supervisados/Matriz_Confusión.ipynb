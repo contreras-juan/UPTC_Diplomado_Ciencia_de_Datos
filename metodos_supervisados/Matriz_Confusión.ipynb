{
 "cells": [
  {
   "cell_type": "markdown",
   "id": "b5dbc526-49d5-4d18-8431-e39c5fdb8ff1",
   "metadata": {},
   "source": [
    "<center>\n",
    "<img src=\"https://storage.googleapis.com/adonaivera_certified/banner.png\">\n",
    "    \n",
    "##  Diplomado en Ciencia de Datos - Cohorte 2024\n",
    "\n",
    "Autor: [Juan Felipe Contreras](https://www.linkedin.com/in/juanf-contreras/)"
   ]
  },
  {
   "cell_type": "markdown",
   "id": "a4e8b402-306a-455b-b21a-9e694ac20dd9",
   "metadata": {},
   "source": [
    "<h1 align='center'> Matriz de Confusión </h1>"
   ]
  },
  {
   "cell_type": "markdown",
   "id": "38693ed4-39e1-4b35-bc14-301336e0059f",
   "metadata": {},
   "source": [
    "Supongona un proyecto en el que se pretende clasificar automáticamente un correo electrónico en una de tres clases: Spam, correo de trabajo, correo personal. Después de entrenar el modelo, se prueba con un conjunto de datos de prueba que contiene 100 correos electrónicos. A continuación se presenta la matriz de confusión del modelo:\n",
    "\n",
    "|               | Spam (Predicho) | Trabajo (Predicho) | Personal (Predicho) |\n",
    "|---------------|------------------|---------------------|---------------------|\n",
    "| Spam (Real)   | 25               | 2                   | 3                   |\n",
    "| Trabajo (Real)| 1                | 30                  | 0                   |\n",
    "| Personal (Real)| 3                | 1                   | 35                  |\n",
    "\n",
    "Para identificar en esta matriz los verdaderos positivos (VP), verdaderos negativos (VN), falsos positivos (FP) y falsos negativos (FN) primero hay que seleccionar una de las tres categorías como positiva, es decir, debemos de fijarla como referencia para analizar las entradas de la matriz. Desglosemos el ejercicio para cada una de las tres categorías:\n",
    "\n",
    "**Categoría de referencia: SPAM**\n",
    "\n",
    "En esta matriz:\n",
    "\n",
    "- Los Verdaderos Positivos (VP) son los correos electrónicos que realmente son spam y que el modelo predijo correctamente como spam. En este caso, serían los correos electrónicos en la casilla \"Spam (Real)\" e \"Spam (Predicho)\", que son 25.\n",
    "\n",
    "- Los Falsos Positivos (FP) son los correos electrónicos que el modelo predijo incorrectamente como spam cuando en realidad no lo son. Estos son los correos electrónicos que están en la columna \"Spam (Predicho)\" pero no en la fila \"Spam (Real)\". Aquí, serían los correos electrónicos que fueron predichos como spam pero que en realidad eran de trabajo o personales, sumando 1 + 3 = 4.\n",
    "\n",
    "- Los Verdaderos Negativos (VN) son los correos electrónicos que el modelo predijo correctamente como no spam. Estos son los correos electrónicos que no están en la fila \"Spam (Real)\" ni en la columna \"Spam (Predicho)\". En esta matriz, incluirían todos los correos electrónicos de trabajo y personales que fueron clasificados correctamente, que suman 30 (Trabajo) + 36 (Personal) = 66.\n",
    "\n",
    "- Los Falsos Negativos (FN) son los correos electrónicos que son spam pero el modelo predijo incorrectamente como no spam. Estos son los correos electrónicos que están en la fila \"Spam (Real)\" pero no en la columna \"Spam (Predicho)\". Aquí, serían los correos electrónicos que fueron etiquetados como trabajo o personal pero que en realidad eran spam, sumando 2 + 3 = 5.\n",
    "\n",
    "Cuándo fijamos la categoría de referencia como Spam, podemos definir los valores anteriores según las siguientes posiciones\n",
    "\n",
    "|               | Spam (Predicho) | Trabajo (Predicho) | Personal (Predicho) |\n",
    "|---------------|------------------|---------------------|---------------------|\n",
    "| Spam (Real)   | VP               | FN                   | FN                   |\n",
    "| Trabajo (Real)| FP                | VN                  | VN                   |\n",
    "| Personal (Real)| FP                | VN                   | VN                  |\n",
    "\n",
    "**Categoría de referencia: Trabajo**\n",
    "\n",
    "- Los Verdaderos Positivos (VP) son los correos electrónicos que realmente son de trabajo y que el modelo predijo correctamente como trabajo. En este caso, serían los correos electrónicos en la casilla \"Trabajo (Real)\" y \"Trabajo (Predicho)\", que son 30.\n",
    "\n",
    "- Los Falsos Positivos (FP) son los correos electrónicos que el modelo predijo incorrectamente como trabajo cuando en realidad no lo son. Estos son los correos electrónicos que están en la columna \"Trabajo (Predicho)\" pero no en la fila \"Trabajo (Real)\". Aquí, serían los correos electrónicos que fueron predichos como trabajo pero que en realidad eran de spam o personales, sumando 2 + 1 = 3.\n",
    "\n",
    "- Los Verdaderos Negativos (VN) son los correos electrónicos que el modelo predijo correctamente como no spam. Estos son los correos electrónicos que no están en la fila \"Spam (Real)\" ni en la columna \"Spam (Predicho)\". En esta matriz, incluirían todos los correos electrónicos de trabajo y personales que fueron clasificados correctamente, que suman 28 (Spam) + 38 (Personal) = 66.\n",
    "\n",
    "- Los Falsos Negativos (FN) son los correos electrónicos que son trabajo pero el modelo predijo incorrectamente como no trabajo. Estos son los correos electrónicos que están en la fila \"Trabajo (Real)\" pero no en la columna \"Trabajo (Predicho)\". Aquí, serían los correos electrónicos que fueron etiquetados como span o personal pero que en realidad eran trabajo, esto es 1 (Spam).\n",
    "\n",
    "Cuándo fijamos la categoría de referencia como Trabajo, podemos definir los valores anteriores según las siguientes posiciones\n",
    "\n",
    "|               | Spam (Predicho) | Trabajo (Predicho) | Personal (Predicho) |\n",
    "|---------------|------------------|---------------------|---------------------|\n",
    "| Spam (Real)   | VN               | FP                   | VN                   |\n",
    "| Trabajo (Real)| FN                | VP                  | FN                   |\n",
    "| Personal (Real)| VN                | FP                   | VN                  |\n",
    "\n",
    "<h2> Tarea: realizar el análisis anterior para la categoría de referencia \"Personal (Real)\" </h2>"
   ]
  },
  {
   "cell_type": "markdown",
   "id": "098a2278-9329-4b0b-9a8a-bdd5cf0c1cd7",
   "metadata": {},
   "source": [
    "<h2> Definición matemática </h2>"
   ]
  },
  {
   "cell_type": "markdown",
   "id": "3d8d79b8-51f8-4a54-b83f-f50142f57890",
   "metadata": {},
   "source": [
    "Sea $C$ una matriz de confusión $K \\text{x} K$ tal que $c_{ij}$ es el número de observaciones que pertenecen a la categoría $i$ y el modelo clasificó en la categoría $j$, para una categoría de referencia $k$, tenemos las siguientes definiciones:\n",
    "\n",
    "**Verdaderos Positivos:**\n",
    "\n",
    "$$VP = c_{kk}$$\n",
    "\n",
    "**Falsos Positivos:**\n",
    "\n",
    "$$FP = \\sum_{i \\neq k}^{K} c_{ik}$$\n",
    "\n",
    "**Verdaderos Negativos:**\n",
    "\n",
    "$$VN = \\sum_{i \\neq k}^{K} \\sum_{j \\neq k}^{K} c_{ij}$$\n",
    "\n",
    "**Falsos Negativos:**\n",
    "\n",
    "$$FN = \\sum_{j \\neq k}^{K} c_{kj}$$"
   ]
  }
 ],
 "metadata": {
  "kernelspec": {
   "display_name": "Python 3 (ipykernel)",
   "language": "python",
   "name": "python3"
  },
  "language_info": {
   "codemirror_mode": {
    "name": "ipython",
    "version": 3
   },
   "file_extension": ".py",
   "mimetype": "text/x-python",
   "name": "python",
   "nbconvert_exporter": "python",
   "pygments_lexer": "ipython3",
   "version": "3.10.11"
  }
 },
 "nbformat": 4,
 "nbformat_minor": 5
}
