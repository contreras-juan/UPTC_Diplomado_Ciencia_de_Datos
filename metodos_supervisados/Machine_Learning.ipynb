{
 "cells": [
  {
   "attachments": {},
   "cell_type": "markdown",
   "id": "8f9f2449",
   "metadata": {},
   "source": [
    "<a href=\"https://colab.research.google.com/github/contreras-juan/UPTC_Diplomado_Ciencia_de_Datos/blob/main/metodos_supervisados/Machine_Learning.ipynb\" target=\"_parent\"><img src=\"https://colab.research.google.com/assets/colab-badge.svg\" alt=\"Open In Colab\"/></a>"
   ]
  },
  {
   "attachments": {},
   "cell_type": "markdown",
   "id": "6cf58fe6",
   "metadata": {},
   "source": [
    "<center>\n",
    "<img src=\"https://storage.googleapis.com/adonaivera_certified/banner.png\">\n",
    "    \n",
    "##  Diplomado en Ciencia de Datos - Cohorte 2024\n",
    "\n",
    "Author: [Juan Felipe Contreras](https://www.linkedin.com/in/juanf-contreras/)"
   ]
  },
  {
   "cell_type": "markdown",
   "id": "82766298-c946-4520-b1d6-ea68adea4e48",
   "metadata": {},
   "source": [
    "<h1 align = 'center'> Introducción al Machine Learning </h1>"
   ]
  },
  {
   "cell_type": "markdown",
   "id": "f3d591b7-17af-4c5b-9d7d-58e0b2b4877d",
   "metadata": {},
   "source": [
    "<h2> Introducción </h2>"
   ]
  },
  {
   "cell_type": "markdown",
   "id": "e13a9858-c3bc-4e92-aa90-46004cfef13e",
   "metadata": {},
   "source": [
    "En esencia, el Machine Learning (en español, Aprendizaje Automático) es un campo de estudio en inteligencia artificial que consiste en desarrollar algoritmos computacionales y estadísticos para que un computador sea capaz de aprender e identificar patrones en un conjunto de datos para poder sacar conclusiones sobre datos nuevos que el modelo aún no ha visto. Algunas definiciones famosas sobre esta disciplina:\n",
    "\n",
    "- \"El Machine Learning es la ciencia de hacer que las computadoras actúen sin ser programadas explícitamente, aprendiendo y evolucionando a partir de la experiencia\". - Andrew Ng\n",
    "\n",
    "- \"Machine Learning es una disciplina que tiene como objetivo desarrollar algoritmos que permitan a las computadoras aprender patrones y realizar tareas sin intervención humana\". - Tom M. Mitchell\n",
    "\n",
    "- \"Machine Learning es una rama de la inteligencia artificial que se centra en el desarrollo de técnicas que permiten a las computadoras mejorar su rendimiento en una tarea específica a medida que se exponen a más datos\". - Pedro Domingos\n",
    "\n",
    "Algunos ejemplos con los que nos enfrentamos a diario son:\n",
    "\n",
    "- Correos no deseados (spam): los proveedores de correos electrónicos (p.ej. Gmail, Outlook) analizan frecuentemente el volumen de correos recibidos a diario por cada usuario, y con base en estos datos, utilizan modelos de predicción para identificar qué correos podrían ser no deseados y automáticamente estos son enviados a la carpeta de correos no deseados (spam)\n",
    "- Detección de objetos en cámaras fotográficas: los teléfonos inteligentes (smartphones) contienen un sistema de detección de objetos en las cámaras fotográficas que identifican cuáles objetos son probablemente rostros para así enfocar en estos puntos y mejorar la calidad de las fotografías\n",
    "- Sistemas de recomendación: algunas redes sociales, como instagram, o algunas aplicaciones, como Spotify, realizan análisis de datos con base en los patrones de búsqueda de sus usuarios para ser capaces de predecir qué contenido es probablemente interesante para los usuarios, y así recomendar más de lo mismo"
   ]
  },
  {
   "cell_type": "markdown",
   "id": "f3eb2cab-8c1c-4cd3-bb2c-459265ef5726",
   "metadata": {},
   "source": [
    "<h2> ¿Cómo funciona el Machine Learning? </h2>\n",
    "\n",
    "En los problemas de Machine Learning se parte de un conocimiento detallado del problema en cuestión que permita construir una historia sobre el comportamiento de los datos (típicamente un análisis descriptivo de la información de crucial en esta etapa del proceso); esto es importante para definir qué información (i.e. qué variables) son importantes de incluir en la fuente de datos a analizar y cuáles modelos estadísticos podrían ser útiles para resolver el problema en cuestión.\n",
    "\n",
    "<h3> Modelos supervisados </h3>\n",
    "\n",
    "Se define como modelo supervisado a aquel que pretende predecir una variable dependiente, comunmente llamada **etiqueta**, con base en un conjunto de variables predictoras. Este tipo de modelos se dividen en dos tipos principales: clasificación y regresión. En el primer tipo, se intenta predecir una variable categórica, esto es, lograr asociar a un individuo a una clase o categoría. En el segundo tipo, la variable a predecir es numérica (continua) y se intenta ser capaz de predecir el valor que va a tener con base en las variables predictoras.\n",
    "\n",
    "\n",
    "\n",
    "<h3> Modelos no supervisados </h3>\n",
    "\n",
    "En el aprendizaje no supervisado los datos no contienen ninguna etiqueta a predecir; estos modelos pretenden aprovechar propiedades de la matriz de datos para encontrar patrones que pueden dar información importante. Las aplicaciones más comunes de este tipo de modelos son:\n",
    "\n",
    "- Agrupamiento (clustering): encontrar qué individuos comparten características en común para asociar a un mismo grupo\n",
    "- Detección de anomalías: encontrar qué individuos cumplen características atípicas en el conjunto de datos para clasificarlos como anómalos\n",
    "- Reducción de dimensión: representar en baja dimensión datos que se encuentran en dimensiones altas y típicamente no pueden visualizarse, o cumplen propiedades diferentes (ver maldición de la dimensionalidad)"
   ]
  },
  {
   "cell_type": "markdown",
   "id": "b251b1ad-370b-4612-a9ef-310e13d47524",
   "metadata": {},
   "source": [
    "<h2> Algunas aplicaciones </h2>\n",
    "\n",
    "- Segmentación de mercado\n",
    "- Predecir si un cliente de un banco prontamente podría cerrar su cuenta bancaría y abandonar el banco\n",
    "- Definir un correo electrónico como SPAM"
   ]
  },
  {
   "cell_type": "code",
   "execution_count": null,
   "id": "5bea8d25-d255-406d-b976-ca5e6e5595cb",
   "metadata": {},
   "outputs": [],
   "source": []
  }
 ],
 "metadata": {
  "kernelspec": {
   "display_name": "Python 3 (ipykernel)",
   "language": "python",
   "name": "python3"
  },
  "language_info": {
   "codemirror_mode": {
    "name": "ipython",
    "version": 3
   },
   "file_extension": ".py",
   "mimetype": "text/x-python",
   "name": "python",
   "nbconvert_exporter": "python",
   "pygments_lexer": "ipython3",
   "version": "3.10.11"
  }
 },
 "nbformat": 4,
 "nbformat_minor": 5
}
